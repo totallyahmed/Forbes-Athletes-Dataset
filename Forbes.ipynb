{
  "nbformat": 4,
  "nbformat_minor": 0,
  "metadata": {
    "colab": {
      "name": "Forbes.ipynb",
      "provenance": []
    },
    "kernelspec": {
      "name": "python3",
      "display_name": "Python 3"
    },
    "language_info": {
      "name": "python"
    }
  },
  "cells": [
    {
      "cell_type": "code",
      "source": [
        "import pandas as pd\n",
        "import numpy as np\n",
        "import matplotlib.pyplot as plt\n",
        "import seaborn as sns"
      ],
      "metadata": {
        "id": "W7ZUCQPiBoc-"
      },
      "execution_count": 5,
      "outputs": []
    },
    {
      "cell_type": "code",
      "source": [
        "df = pd.read_csv(\"forbesathletes.csv\")"
      ],
      "metadata": {
        "id": "WH5dX-s-B6ES"
      },
      "execution_count": 6,
      "outputs": []
    },
    {
      "cell_type": "code",
      "source": [
        "df.head()"
      ],
      "metadata": {
        "colab": {
          "base_uri": "https://localhost:8080/",
          "height": 206
        },
        "id": "ss5agiZzCC78",
        "outputId": "cbe34fcc-717f-4ec0-8c82-b6a88cdba7dc"
      },
      "execution_count": 8,
      "outputs": [
        {
          "output_type": "execute_result",
          "data": {
            "text/html": [
              "<div>\n",
              "<style scoped>\n",
              "    .dataframe tbody tr th:only-of-type {\n",
              "        vertical-align: middle;\n",
              "    }\n",
              "\n",
              "    .dataframe tbody tr th {\n",
              "        vertical-align: top;\n",
              "    }\n",
              "\n",
              "    .dataframe thead th {\n",
              "        text-align: right;\n",
              "    }\n",
              "</style>\n",
              "<table border=\"1\" class=\"dataframe\">\n",
              "  <thead>\n",
              "    <tr style=\"text-align: right;\">\n",
              "      <th></th>\n",
              "      <th>Name</th>\n",
              "      <th>Earnings</th>\n",
              "      <th>Year</th>\n",
              "      <th>Sport</th>\n",
              "    </tr>\n",
              "  </thead>\n",
              "  <tbody>\n",
              "    <tr>\n",
              "      <th>0</th>\n",
              "      <td>Conor McGregor</td>\n",
              "      <td>180.0</td>\n",
              "      <td>2021</td>\n",
              "      <td>Mixed Martial Arts</td>\n",
              "    </tr>\n",
              "    <tr>\n",
              "      <th>1</th>\n",
              "      <td>Lionel Messi</td>\n",
              "      <td>130.0</td>\n",
              "      <td>2021</td>\n",
              "      <td>Soccer</td>\n",
              "    </tr>\n",
              "    <tr>\n",
              "      <th>2</th>\n",
              "      <td>Cristiano Ronaldo</td>\n",
              "      <td>120.0</td>\n",
              "      <td>2021</td>\n",
              "      <td>Soccer</td>\n",
              "    </tr>\n",
              "    <tr>\n",
              "      <th>3</th>\n",
              "      <td>Dak Prescott</td>\n",
              "      <td>107.5</td>\n",
              "      <td>2021</td>\n",
              "      <td>Football</td>\n",
              "    </tr>\n",
              "    <tr>\n",
              "      <th>4</th>\n",
              "      <td>LeBron James</td>\n",
              "      <td>96.5</td>\n",
              "      <td>2021</td>\n",
              "      <td>Basketball</td>\n",
              "    </tr>\n",
              "  </tbody>\n",
              "</table>\n",
              "</div>"
            ],
            "text/plain": [
              "                Name  Earnings  Year               Sport\n",
              "0     Conor McGregor     180.0  2021  Mixed Martial Arts\n",
              "1       Lionel Messi     130.0  2021              Soccer\n",
              "2  Cristiano Ronaldo     120.0  2021              Soccer\n",
              "3       Dak Prescott     107.5  2021            Football\n",
              "4       LeBron James      96.5  2021          Basketball"
            ]
          },
          "metadata": {},
          "execution_count": 8
        }
      ]
    },
    {
      "cell_type": "code",
      "source": [
        "df.info()"
      ],
      "metadata": {
        "colab": {
          "base_uri": "https://localhost:8080/"
        },
        "id": "r8i6kqlaCMkc",
        "outputId": "f9ba2709-ee0b-4ec7-9d87-51a743bd4fd4"
      },
      "execution_count": 9,
      "outputs": [
        {
          "output_type": "stream",
          "name": "stdout",
          "text": [
            "<class 'pandas.core.frame.DataFrame'>\n",
            "RangeIndex: 1659 entries, 0 to 1658\n",
            "Data columns (total 4 columns):\n",
            " #   Column    Non-Null Count  Dtype  \n",
            "---  ------    --------------  -----  \n",
            " 0   Name      1659 non-null   object \n",
            " 1   Earnings  1659 non-null   float64\n",
            " 2   Year      1659 non-null   int64  \n",
            " 3   Sport     1659 non-null   object \n",
            "dtypes: float64(1), int64(1), object(2)\n",
            "memory usage: 52.0+ KB\n"
          ]
        }
      ]
    },
    {
      "cell_type": "code",
      "source": [
        "df.isnull().sum()"
      ],
      "metadata": {
        "colab": {
          "base_uri": "https://localhost:8080/"
        },
        "id": "LHGf3rGsCRRS",
        "outputId": "3fa68abf-69ca-4e5c-ea9d-48f71068133b"
      },
      "execution_count": 10,
      "outputs": [
        {
          "output_type": "execute_result",
          "data": {
            "text/plain": [
              "Name        0\n",
              "Earnings    0\n",
              "Year        0\n",
              "Sport       0\n",
              "dtype: int64"
            ]
          },
          "metadata": {},
          "execution_count": 10
        }
      ]
    },
    {
      "cell_type": "code",
      "source": [
        "df.Sport.unique()"
      ],
      "metadata": {
        "colab": {
          "base_uri": "https://localhost:8080/"
        },
        "id": "2eIWZ8w9CVaP",
        "outputId": "fbb1db4d-48e5-4684-f9f1-0ff10e8e1767"
      },
      "execution_count": 11,
      "outputs": [
        {
          "output_type": "execute_result",
          "data": {
            "text/plain": [
              "array(['Mixed Martial Arts', 'Soccer', 'Football', 'Basketball', 'Tennis',\n",
              "       'Auto Racing', 'Golf', 'Boxing', 'Baseball', 'Cricket', 'Track',\n",
              "       'Basketbal', 'Racing', 'MMA', 'Cycling', 'Hockey',\n",
              "       'Football/Baseball'], dtype=object)"
            ]
          },
          "metadata": {},
          "execution_count": 11
        }
      ]
    },
    {
      "cell_type": "code",
      "source": [
        "df.Year.unique()"
      ],
      "metadata": {
        "colab": {
          "base_uri": "https://localhost:8080/"
        },
        "id": "7U-0bH9-CbwB",
        "outputId": "e9a0e6a0-3d8a-4433-f7cb-6c5d6652156a"
      },
      "execution_count": 12,
      "outputs": [
        {
          "output_type": "execute_result",
          "data": {
            "text/plain": [
              "array([2021, 2020, 2019, 2018, 2017, 2016, 2015, 2014, 2013, 2012, 2011,\n",
              "       2010, 2009, 2008, 2007, 2006, 2005, 2004, 2003, 2002, 2000, 1999,\n",
              "       1998, 1997, 1996, 1995, 1994, 1993, 1992, 1991, 1990])"
            ]
          },
          "metadata": {},
          "execution_count": 12
        }
      ]
    },
    {
      "cell_type": "code",
      "source": [
        "# EDA"
      ],
      "metadata": {
        "id": "_OAEZi3vCiPo"
      },
      "execution_count": 13,
      "outputs": []
    },
    {
      "cell_type": "code",
      "source": [
        "df.groupby('Year')['Earnings'].sum().sort_values(ascending=False)"
      ],
      "metadata": {
        "colab": {
          "base_uri": "https://localhost:8080/"
        },
        "id": "8pXJAF8bCoaC",
        "outputId": "b7026108-f9fb-4ab5-fdc8-cd45302907c4"
      },
      "execution_count": 14,
      "outputs": [
        {
          "output_type": "execute_result",
          "data": {
            "text/plain": [
              "Year\n",
              "2019    3998.9\n",
              "2018    3814.9\n",
              "2020    3622.3\n",
              "2015    3218.7\n",
              "2016    3152.4\n",
              "2017    3109.4\n",
              "2021    2757.0\n",
              "2014    2751.6\n",
              "2013    2623.4\n",
              "2012    2597.6\n",
              "2010    1574.1\n",
              "2011    1408.6\n",
              "2004    1130.0\n",
              "2007     812.7\n",
              "2008     747.5\n",
              "2005     702.4\n",
              "1997     689.9\n",
              "2009     631.0\n",
              "1998     629.9\n",
              "2006     626.0\n",
              "2003     616.0\n",
              "2000     570.6\n",
              "2002     568.5\n",
              "1999     566.0\n",
              "1996     555.3\n",
              "1995     489.5\n",
              "1993     415.9\n",
              "1994     354.3\n",
              "1991     353.2\n",
              "1992     345.2\n",
              "1990     229.2\n",
              "Name: Earnings, dtype: float64"
            ]
          },
          "metadata": {},
          "execution_count": 14
        }
      ]
    },
    {
      "cell_type": "code",
      "source": [
        "df.groupby('Year')['Earnings'].sum().plot(kind='bar', figsize=(12,6))\n",
        "plt.ylabel('Earnings (M $)')\n",
        "plt.title('Total athletes earning value for every year')"
      ],
      "metadata": {
        "colab": {
          "base_uri": "https://localhost:8080/",
          "height": 438
        },
        "id": "E4JxuRocC_r1",
        "outputId": "3f6f4a73-7454-4b4c-b1b5-030c1f83f33f"
      },
      "execution_count": 20,
      "outputs": [
        {
          "output_type": "execute_result",
          "data": {
            "text/plain": [
              "Text(0.5, 1.0, 'Total athletes earning value for every year')"
            ]
          },
          "metadata": {},
          "execution_count": 20
        },
        {
          "output_type": "display_data",
          "data": {
            "image/png": "[encoded data removed]",
            "text/plain": [
              "<Figure size 864x432 with 1 Axes>"
            ]
          },
          "metadata": {
            "needs_background": "light"
          }
        }
      ]
    },
    {
      "cell_type": "code",
      "source": [
        "df.groupby('Sport')['Earnings'].sum().sort_values(ascending=False)"
      ],
      "metadata": {
        "colab": {
          "base_uri": "https://localhost:8080/"
        },
        "id": "Y69cz30SEWrE",
        "outputId": "f190508e-3a5b-47e4-9c54-56e3ec14798f"
      },
      "execution_count": 21,
      "outputs": [
        {
          "output_type": "execute_result",
          "data": {
            "text/plain": [
              "Sport\n",
              "Basketball            11544.0\n",
              "Football               7209.9\n",
              "Baseball               5818.1\n",
              "Soccer                 5402.8\n",
              "Golf                   3917.3\n",
              "Boxing                 3492.0\n",
              "Tennis                 3477.6\n",
              "Racing                 3148.6\n",
              "Auto Racing             465.4\n",
              "Mixed Martial Arts      374.0\n",
              "Cricket                 256.6\n",
              "Track                   186.4\n",
              "Hockey                  166.9\n",
              "Cycling                  76.7\n",
              "MMA                      56.0\n",
              "Football/Baseball        38.9\n",
              "Basketbal                30.8\n",
              "Name: Earnings, dtype: float64"
            ]
          },
          "metadata": {},
          "execution_count": 21
        }
      ]
    },
    {
      "cell_type": "code",
      "source": [
        "s = df.groupby('Sport')['Earnings'].sum().sort_values()\n",
        "s.plot(kind = 'barh', figsize=(12,7))\n",
        "plt.title('Total athletes earning value for each sport')"
      ],
      "metadata": {
        "colab": {
          "base_uri": "https://localhost:8080/",
          "height": 462
        },
        "id": "vfMq9KECEk82",
        "outputId": "00583324-8600-4044-9f6f-90e74a270095"
      },
      "execution_count": 23,
      "outputs": [
        {
          "output_type": "execute_result",
          "data": {
            "text/plain": [
              "Text(0.5, 1.0, 'Total athletes earning value for each sport')"
            ]
          },
          "metadata": {},
          "execution_count": 23
        },
        {
          "output_type": "display_data",
          "data": {
            "image/png": "[encoded data removed]",
            "text/plain": [
              "<Figure size 864x504 with 1 Axes>"
            ]
          },
          "metadata": {
            "needs_background": "light"
          }
        }
      ]
    },
    {
      "cell_type": "code",
      "source": [
        "arr = df.Name.unique()\n",
        "print(arr)"
      ],
      "metadata": {
        "colab": {
          "base_uri": "https://localhost:8080/"
        },
        "id": "Ux4wrfDdJHTh",
        "outputId": "eb50e418-7c5a-458b-f379-43fc41a0a962"
      },
      "execution_count": 24,
      "outputs": [
        {
          "output_type": "stream",
          "name": "stdout",
          "text": [
            "['Conor McGregor' 'Lionel Messi' 'Cristiano Ronaldo' 'Dak Prescott'\n",
            " 'LeBron James' 'Neymar' 'Roger Federer' 'Lewis Hamilton' 'Tom Brady'\n",
            " 'Kevin Durant' 'Stephen Curry' 'Naomi Osaka' 'Tiger Woods'\n",
            " 'Russell Westbrook' 'Patrick Mahomes' 'James Harden' 'David Bakhtiari'\n",
            " 'Ronnie Stanley' 'Giannis Antetokounmpo' 'Dustin Johnson' 'Klay Thompson'\n",
            " 'Joey Bosa' 'Kyrie Irving' 'Jalen Ramsey' 'Trent Williams'\n",
            " 'Myles Garrett' 'Max Verstappen' 'Serena Williams' 'Phil Mickelson'\n",
            " 'Damian Lillard' 'Kylian Mbappe' 'Chris Paul' 'DeAndre Hopkins'\n",
            " 'Leonard Williams' 'Jimmy Butler' 'Marlon Humphrey' 'Mohamed Salah'\n",
            " 'Paul George' 'Chris Jones' 'Anthony Davis' 'Aaron Donald' 'Matt Judon'\n",
            " 'Paul Pogba' 'Deshaun Watson' 'Shaquil Barrett' 'Novak Djokovic'\n",
            " 'JJ Watt' 'Canelo Alvarez' 'Andres Iniesta' 'Robert Lewandowski'\n",
            " 'Kirk Cousins' 'Carson Wentz' 'Tyson Fury' 'Rory McIlroy' 'Jared Goff'\n",
            " 'Anthony Joshua' 'Deontay Wilder' 'Drew Brees' 'Julio Jones'\n",
            " 'Rafael Nadal' 'Sebastian Vettel' 'Grady Jarrett' 'Michael Thomas'\n",
            " 'Kei Nishikori' 'Blake Griffin' 'John Wall' 'Kawhi Leonard'\n",
            " 'Aaron Rodgers' 'Matt Ryan' 'Daniel Ricciardo' 'Mesut Ozil' 'Kyle Lowry'\n",
            " 'Gordon Hayward' 'Jordan Spieth' 'Kemba Walker' 'Oscar' 'Clayton Kershaw'\n",
            " 'Zion Williamson' 'Arik Armstead' 'Joel Embiid' 'Antoine Griezmann'\n",
            " 'Devin Booker' 'Christian McCaffrey' \"D'Angelo Russell\" 'Darius Slay'\n",
            " 'Virat Kohli' 'David De Gea' 'Kevin Love' 'Alexis Sanchez'\n",
            " 'Ryan Tannehill' 'Mike Conley' 'Tobias Harris' 'Gareth Bale'\n",
            " 'Bobby Wagner' 'Amari Cooper' 'DeMar DeRozan' 'Robert Quinn'\n",
            " 'Kristaps Porzingis' 'Al Horford' 'Trae Waynes' 'Dante Fowler'\n",
            " 'Khris Middleton' 'Marcus Mariota' 'CJ McCollum' 'Nick Bosa'\n",
            " 'Shaq Thompson' 'Karl-Anthony Towns' 'Philip Rivers' 'Ezekiel Elliott'\n",
            " 'Paul Millsap' 'Ben Roethlisberger' 'Andrus Peat' 'Andre Drummond'\n",
            " 'DJ Reader' 'Quinnen Williams' 'Bradley Beal' 'Cam Newton'\n",
            " 'Calais Campbell' 'Derek Carr' 'Sergio Ramos' 'Russell Wilson'\n",
            " 'Khalil Mack' 'Mike Trout' 'DeMarcus Lawrence' 'Bryce Harper'\n",
            " 'Brandin Cooks' 'Nick Foles' 'Manny Machado' 'Carmelo Anthony'\n",
            " 'Justin Rose' 'David Price' 'Trey Flowers' 'Justin Verlander'\n",
            " 'Yoenis Cespedes' 'Miguel Cabrera' 'Geno Atkins' 'Earl Thomas'\n",
            " 'Jake Arrieta' 'Justin Houston' 'Albert Pujols' 'Dwight Howard'\n",
            " 'Jrue Holiday' 'Giancarlo Stanton' 'Steven Adams' 'Andrew Luck'\n",
            " 'CJ Mosley' 'Felix Hernandez' 'Odell Beckham Jr' 'Otto Porter Jr'\n",
            " 'Harrison Barnes' 'Nikola Jokic' 'Hassan Whiteside' 'Andrew Wiggins'\n",
            " 'Manny Pacquiao' 'Saquon Barkley' 'JD Martinez' 'Gennady Golovkin'\n",
            " 'Joey Votto' 'Jon Lester' 'Marc Gasol' 'Floyd Mayweather'\n",
            " 'Matthew Stafford' 'Alex Smith' 'Trumaine Johnson' 'Jimmy Garoppolo'\n",
            " 'Von Miller' 'Fernando Alonso' 'Demar DeRozan' 'Dwyane Wade' 'Usain Bolt'\n",
            " 'Wayne Rooney' 'Luis Suarez' 'Chris Bosh' 'Justin Thomas' 'Eli Manning'\n",
            " 'Buster Posey' 'Davante Adams' 'Stephon Tuitt' 'Sam Bradford'\n",
            " 'Zack Greinke' 'Chandler Parsons' 'DeAndre Jordan' 'Sergio Aguero'\n",
            " 'Joe Mauer' 'JJ Redick' 'Jarvis Landry' 'Nate Solder' 'LaMarcus Aldridge'\n",
            " 'Robinson Cano' 'Brook Lopez' 'Masahiro Tanaka' 'Melvin Ingram'\n",
            " 'Nicolas Batum' 'Derrick Rose' 'Fletcher Cox' 'Zlatan Ibrahimovic'\n",
            " 'Antonio Brown' 'Eric Berry' 'Stephon Gilmore' 'Andy Murray'\n",
            " 'Ryan Howard' 'Dirk Nowitzki' 'Jason Pierre-Paul' 'CC Sabathia'\n",
            " 'David DeCastro' 'Prince Fielder' 'Josh Hamilton' 'Matt Kalil'\n",
            " 'Chandler Jones' 'Cole Hamels' 'Muhammad Wilkerson' 'Nick Perry'\n",
            " 'Hanley Ramirez' 'Justin Upton' 'Jose Reyes' 'James Rodriguez'\n",
            " 'Jimmie Johnson' 'Adrian Gonzalez' 'Jacoby Ellsbury' 'Matt Kemp'\n",
            " 'Wladimir Klitschko' 'Dale Earnhardt Jr' 'Kobe Bryant' 'Joe Flacco'\n",
            " 'Marcell Dareus' 'Peyton Manning' 'AJ Green' 'Cliff Lee' 'Olivier Vernon'\n",
            " 'Luke Kuechly' 'Cameron Jordan' 'Jason Day' 'Dez Bryant'\n",
            " 'Demaryius Thomas' 'Mark Teixeira' 'Joe Johnson' 'Anthony Castonzo'\n",
            " 'Troy Tulowitzki' 'Bastian Schweinsteiger' 'Angel Di Maria' 'Eden Hazard'\n",
            " 'David Ortiz' 'Maria Sharapova' 'Cameron Heyward' 'Jayson Werth'\n",
            " 'Alex Rodriguez' 'Nico Rosberg' 'Carl Crawford' 'Ndamukong Suh'\n",
            " 'Mahendra Singh Dhoni' 'Carson Palmer' 'Kimi Raikkonen' 'Gerald McCoy'\n",
            " 'Radamel Falcao' 'Amare Stoudemire' 'Andy Dalton' 'LeSean McCoy'\n",
            " 'Tony Romo' 'Tyron Smith' 'Deron Williams' 'Matt Cain' 'David Wright'\n",
            " 'Cesc Fabregas' 'Yaya Toure' 'Rudy Gay' 'Adam Wainwright' 'Frank Lampard'\n",
            " 'Devin McCourty' 'Billy Horschel' 'Jeremy Lin' 'Maurkice Pouncey'\n",
            " 'Max Scherzer' 'Derek Jeter' 'Darrelle Revis' 'Li Na' 'Johan Santana'\n",
            " 'Pau Gasol' 'Joe Haden' 'Fernando Torres' 'Henrik Stenson' 'Vernon Wells'\n",
            " 'Julius Peppers' 'Jason Peters' 'Tim Lincecum' 'Barry Zito'\n",
            " 'Robin van Persie' 'Carlos Dunlap' 'Zach Randolph' 'Steven Gerrard'\n",
            " 'Jeff Gordon' 'Larry Fitzgerald' 'Branden Albert' 'Franck Ribery'\n",
            " 'Alfonso Soriano' 'Jairus Byrd' 'Adam Scott' 'Terrell Suggs'\n",
            " 'Brandon Marshall' 'Matt Holliday' 'David Beckham' 'Amare Stoudamire'\n",
            " 'Calvin Johnson' 'Ray Rice' 'Dwayne Bowe' 'Vincent Jackson' 'Matt Schaub'\n",
            " 'Sachin Tendulkar' 'Valentino Rossi' 'Clay Matthews' 'Gilbert Arenas'\n",
            " 'Didier Drogba' 'Roy Halladay' 'Ichiro Suzuki' 'Ernie Els' 'Kaka'\n",
            " 'Brandt Snedeker' 'Paul Pierce' 'Tony Stewart' 'Carl Nicks'\n",
            " 'Carlos Tevez' 'Michael Young' 'Andrew Bynum' 'AJ Burnett' 'Brandon Roy'\n",
            " 'Samuel Etoo' 'Haloti Ngata' 'Charles Johnson' 'Mario Williams'\n",
            " 'Michael Schumacher' 'LaMarr Woodley' 'Mark Sanchez' 'Luke Donald'\n",
            " 'Michael Vick' 'Logan Mankins' 'Richard Seymour' 'Adrian Peterson'\n",
            " 'Jon Beason' 'Kevin Garnett' 'DBrickashaw Ferguson' 'DeAngelo Williams'\n",
            " 'Joe Thomas' 'Ryan Kalil' 'Tim Duncan' 'Miguel Cotto' 'Robert Mathis'\n",
            " 'Carlos Lee' 'Lawrence Timmons' 'Torii Hunter' 'Jonathan Joseph'\n",
            " 'Darnell Dockett' 'Rashard Lewis' 'John Terry' 'Carlos Zambrano'\n",
            " 'Russell Okung' 'Rolando McClain' 'Jake Peavy' 'Yao Ming' 'Ronaldinho'\n",
            " 'Jim Furyk' 'Vince Carter' 'Todd Helton' 'Jahri Evans' 'Michael Redd'\n",
            " 'Lebron James' 'Shaquille ONeal' 'Tracy McGrady' 'Albert Haynesworth'\n",
            " 'DeMarcus Ware' 'Jermaine ONeal' 'Thierry Henry' 'Jake Delhomme'\n",
            " 'Lance Armstrong' 'Michael Jordan' 'Venus Williams' 'Ana Ivanovic'\n",
            " 'Danica Patrick' 'Justine Henin' 'Annika Sorenstam' 'Lorena Ochoa'\n",
            " 'Oscar De La Hoya' 'Vijay Singh' 'Leonard Davis' 'Arnold Palmer'\n",
            " 'Reggie Bush' 'Allen Iverson' 'Muhammad Ali' 'Michelle Wie'\n",
            " 'Andre Agassi' 'Manny Ramirez' 'Walter Jones' 'Ronaldo' 'Matt Hasselbeck'\n",
            " 'Lindsay Davenport' 'Grant Hill' 'Barry Bonds' 'Champ Bailey'\n",
            " 'Carlos Delgado' 'Randy Johnson' 'Mike Piazza' 'Jevon Kearse'\n",
            " 'Sammy Sosa' 'Pedro Martinez' 'Jason Giambi' 'Lavar Arrington'\n",
            " 'Brian Urlacher' 'Greg Norman' 'Ralf Schumacher' 'Jason Kidd'\n",
            " 'Zinedine Zidane' 'Grant Wistrom' 'Shawn Green' 'Charles Rogers'\n",
            " 'Rasheed Wallace' 'Kevin Brown' 'Anfernee Hardaway' 'Andre Miller'\n",
            " 'Jacques Villeneuve' 'Alonzo Mourning' 'Scottie Pippen' 'Juwan Howard'\n",
            " 'Karl Malone' 'Anna Kournikova' 'Martina Hingis' 'Lennox Lewis'\n",
            " 'Mike Tyson' 'Ken Griffey Jr' 'Jennifer Capriati' 'Dale Earnhardt'\n",
            " 'George Foreman' 'Evander Holyfield' 'Troy Aikman' 'Patrick Ewing'\n",
            " 'Edgerrin James' 'Monica Seles' 'Sergei Fedorov' 'Gary Sheffield'\n",
            " 'Dennis Rodman' 'Wayne Gretzky' 'Cal Ripken Jr' 'Brett Favre'\n",
            " 'David Robinson' 'Gary Payton' 'Shawn Kemp' 'Roy Jones Jr' 'Mo Vaughn'\n",
            " 'Pete Sampras' 'Deion Sanders' 'Hakeem Olajuwon' 'Jack Nicklaus'\n",
            " 'Albert Belle' 'Michael Chang' 'Mark McGwire' 'Joe Sakic' 'Horace Grant'\n",
            " 'Naseem Hamed' 'Greg Maddux' 'Reggie Miller' 'Barry Sanders'\n",
            " 'Chris Gratton' 'Michael Moorer' 'Frank Thomas' 'Emmitt Smith'\n",
            " 'Dan Marino' 'Riddick Bowe' 'Clyde Drexler' 'Julio Cesar Chavez'\n",
            " 'John Elway' 'Neil ODonnell' 'Steve Young' 'Mario Lemieux' 'Damon Hill'\n",
            " 'Charles Barkley' 'Cecil Fielder' 'Gerhard Berger' 'Drew Bledsoe'\n",
            " 'Ki-Jana Carter' 'Jean Alesi' 'Boris Becker' 'Steffi Graf'\n",
            " 'Pernell Whitaker' 'Mark Messier' 'Joe Carter' 'Jerry Rice'\n",
            " 'Michael Irvin' 'Nigel Mansell' 'Joe Montana' 'Emerson Fittipaldi'\n",
            " 'Stefan Edberg' 'Scott Mitchell' 'Heath Shuler' 'Marshall Faulk'\n",
            " 'James Toney' 'Dan Wilkinson' 'Mario Andretti' 'Trent Dilfer'\n",
            " 'Roberto Baggio' 'Will Clark' 'Gabriela Sabatini' 'Al Unser Jr'\n",
            " 'Ayrton Senna' 'Alain Prost' 'Jim Courier' 'Reggie White' 'Ryne Sandberg'\n",
            " 'Bobby Bonilla' 'Riccardo Patrese' 'Nolan Ryan' 'Dwight Gooden'\n",
            " 'Larry Holmes' 'Fred Couples' 'Magic Johnson' 'Nick Faldo'\n",
            " 'Danny Tartabull' 'Roger Clemens' 'Ruben Sierra' 'Ivan Lendl'\n",
            " 'Frank Viola' 'Lee Trevino' 'Doug Drabek' 'Razor Ruddock' 'Larry Bird'\n",
            " 'Raghib Ismail' 'John Williams' 'Bo Jackson' 'Darryl Strawberry'\n",
            " 'Greg LeMond' 'Nelson Piquet' 'Kevin Mitchell' 'Curtis Strange'\n",
            " 'Buster Douglas' 'Sugar Ray Leonard' 'Jose Canseco' 'Diego Maradona'\n",
            " 'Don Mattingly' 'Robin Yount']\n"
          ]
        }
      ]
    },
    {
      "cell_type": "code",
      "source": [
        "# aggregate for each athlete\n",
        "agg = {}\n",
        "for player in arr:\n",
        "  agg[player] = df[df['Name'] == player]['Earnings'].sum()\n",
        "\n",
        "\n",
        "  data_items = agg.items()\n",
        "  data_list = list(data_items)\n",
        "  df_res = pd.DataFrame(data_list, columns=['Name', 'Earnings'])\n",
        "\n",
        "\n",
        "  df_res.sort_values(by ='Earnings',ascending=False,inplace=True)"
      ],
      "metadata": {
        "id": "IeCzwQ52JReb"
      },
      "execution_count": 30,
      "outputs": []
    },
    {
      "cell_type": "code",
      "source": [
        "df_res.head(10)"
      ],
      "metadata": {
        "colab": {
          "base_uri": "https://localhost:8080/",
          "height": 363
        },
        "id": "ZkvDElyFK4Mj",
        "outputId": "56e3074c-1451-4aee-cc84-46023a85e6be"
      },
      "execution_count": 31,
      "outputs": [
        {
          "output_type": "execute_result",
          "data": {
            "text/html": [
              "<div>\n",
              "<style scoped>\n",
              "    .dataframe tbody tr th:only-of-type {\n",
              "        vertical-align: middle;\n",
              "    }\n",
              "\n",
              "    .dataframe tbody tr th {\n",
              "        vertical-align: top;\n",
              "    }\n",
              "\n",
              "    .dataframe thead th {\n",
              "        text-align: right;\n",
              "    }\n",
              "</style>\n",
              "<table border=\"1\" class=\"dataframe\">\n",
              "  <thead>\n",
              "    <tr style=\"text-align: right;\">\n",
              "      <th></th>\n",
              "      <th>Name</th>\n",
              "      <th>Earnings</th>\n",
              "    </tr>\n",
              "  </thead>\n",
              "  <tbody>\n",
              "    <tr>\n",
              "      <th>12</th>\n",
              "      <td>Tiger Woods</td>\n",
              "      <td>1632.2</td>\n",
              "    </tr>\n",
              "    <tr>\n",
              "      <th>160</th>\n",
              "      <td>Floyd Mayweather</td>\n",
              "      <td>944.5</td>\n",
              "    </tr>\n",
              "    <tr>\n",
              "      <th>2</th>\n",
              "      <td>Cristiano Ronaldo</td>\n",
              "      <td>942.9</td>\n",
              "    </tr>\n",
              "    <tr>\n",
              "      <th>6</th>\n",
              "      <td>Roger Federer</td>\n",
              "      <td>933.1</td>\n",
              "    </tr>\n",
              "    <tr>\n",
              "      <th>1</th>\n",
              "      <td>Lionel Messi</td>\n",
              "      <td>911.5</td>\n",
              "    </tr>\n",
              "    <tr>\n",
              "      <th>4</th>\n",
              "      <td>LeBron James</td>\n",
              "      <td>820.5</td>\n",
              "    </tr>\n",
              "    <tr>\n",
              "      <th>28</th>\n",
              "      <td>Phil Mickelson</td>\n",
              "      <td>781.7</td>\n",
              "    </tr>\n",
              "    <tr>\n",
              "      <th>372</th>\n",
              "      <td>Michael Jordan</td>\n",
              "      <td>739.2</td>\n",
              "    </tr>\n",
              "    <tr>\n",
              "      <th>328</th>\n",
              "      <td>Michael Schumacher</td>\n",
              "      <td>703.0</td>\n",
              "    </tr>\n",
              "    <tr>\n",
              "      <th>222</th>\n",
              "      <td>Kobe Bryant</td>\n",
              "      <td>621.0</td>\n",
              "    </tr>\n",
              "  </tbody>\n",
              "</table>\n",
              "</div>"
            ],
            "text/plain": [
              "                   Name  Earnings\n",
              "12          Tiger Woods    1632.2\n",
              "160    Floyd Mayweather     944.5\n",
              "2     Cristiano Ronaldo     942.9\n",
              "6         Roger Federer     933.1\n",
              "1          Lionel Messi     911.5\n",
              "4          LeBron James     820.5\n",
              "28       Phil Mickelson     781.7\n",
              "372      Michael Jordan     739.2\n",
              "328  Michael Schumacher     703.0\n",
              "222         Kobe Bryant     621.0"
            ]
          },
          "metadata": {},
          "execution_count": 31
        }
      ]
    },
    {
      "cell_type": "code",
      "source": [
        "plt.subplots(figsize=(10,5))\n",
        "plt.gca().invert_yaxis()\n",
        "plt.ylabel('Athletes')\n",
        "plt.title('Athletes with the highest earnings')\n",
        "plt.barh(df_res.Name[:10],df_res.Earnings[:10])"
      ],
      "metadata": {
        "colab": {
          "base_uri": "https://localhost:8080/",
          "height": 354
        },
        "id": "kglZYQ6MK87D",
        "outputId": "b325c033-1f42-4c87-fe46-fc18c4c4727c"
      },
      "execution_count": 33,
      "outputs": [
        {
          "output_type": "execute_result",
          "data": {
            "text/plain": [
              "<BarContainer object of 10 artists>"
            ]
          },
          "metadata": {},
          "execution_count": 33
        },
        {
          "output_type": "display_data",
          "data": {
            "image/png": "[encoded data removed]",
            "text/plain": [
              "<Figure size 720x360 with 1 Axes>"
            ]
          },
          "metadata": {
            "needs_background": "light"
          }
        }
      ]
    },
    {
      "cell_type": "markdown",
      "source": [
        "Conclusions\n",
        "\n",
        "\n",
        "*   The years with highest earnings are 2019(3998.9), 2018(3814.9) and then 2020(3622.3) \n",
        "*   The sport with highest earnings are Basketball(11544.0), Football(7209.9) and then Baseball(5818.1)\n",
        "\n",
        "*   Athletes with Highest earnings are  \n",
        "\n",
        "1.   Tiger Woods (1632.2)\n",
        "2.   Floyd Mayweather (944.5)\n",
        "3.   Cristiano Ronaldo (942.9)\n",
        "\n",
        "\n",
        "\n",
        "\n",
        "\n"
      ],
      "metadata": {
        "id": "puPu2JZ8Lq3U"
      }
    }
  ]
}